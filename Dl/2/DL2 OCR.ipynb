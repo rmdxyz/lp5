{
 "cells": [
  {
   "cell_type": "code",
   "execution_count": 1,
   "metadata": {},
   "outputs": [
    {
     "name": "stderr",
     "output_type": "stream",
     "text": [
      "C:\\ProgramData\\Anaconda3\\lib\\site-packages\\scipy\\__init__.py:155: UserWarning: A NumPy version >=1.18.5 and <1.25.0 is required for this version of SciPy (detected version 1.26.4\n",
      "  warnings.warn(f\"A NumPy version >={np_minversion} and <{np_maxversion}\"\n"
     ]
    }
   ],
   "source": [
    "import pandas as pd\n",
    "import numpy as np\n",
    "import seaborn as sns\n",
    "from sklearn.model_selection import train_test_split\n",
    "from sklearn.preprocessing import LabelEncoder\n",
    "from tensorflow.keras.models import Sequential\n",
    "from tensorflow.keras.layers import Dense"
   ]
  },
  {
   "cell_type": "code",
   "execution_count": 2,
   "metadata": {},
   "outputs": [],
   "source": [
    "url = \"https://archive.ics.uci.edu/ml/machine-learning-databases/letter-recognition/letter-recognition.data\"\n",
    "column_names = [\"letter\", \"x-box\", \"y-box\", \"width\", \"height\", \"onpix\",\"x-bar\", \"y-bar\", \"x2bar\", \"y2bar\", \"xybar\", \"x2ybr\", \"xy2br\", \"x-ege\",\"xegvy\", \"y-ege\", \"yegvx\"]\n",
    "data = pd.read_csv(url, names=column_names)"
   ]
  },
  {
   "cell_type": "code",
   "execution_count": 3,
   "metadata": {},
   "outputs": [],
   "source": [
    "X = data.drop('letter', axis=1)\n",
    "y = data['letter']"
   ]
  },
  {
   "cell_type": "code",
   "execution_count": 4,
   "metadata": {},
   "outputs": [],
   "source": [
    "label_encoder = LabelEncoder()\n",
    "y = label_encoder.fit_transform(y)"
   ]
  },
  {
   "cell_type": "code",
   "execution_count": 5,
   "metadata": {},
   "outputs": [],
   "source": [
    "X_train, X_test, y_train, y_test = train_test_split(X, y, test_size=0.2,random_state=42)"
   ]
  },
  {
   "cell_type": "code",
   "execution_count": 6,
   "metadata": {},
   "outputs": [],
   "source": [
    "model = Sequential([\n",
    "Dense(128, activation='relu', input_shape=(16,)),\n",
    "Dense(64, activation='relu'),\n",
    "Dense(26, activation='softmax') # 26 classes for letters A-Z\n",
    "])"
   ]
  },
  {
   "cell_type": "code",
   "execution_count": 7,
   "metadata": {},
   "outputs": [],
   "source": [
    "model.compile(optimizer='adam', loss='sparse_categorical_crossentropy',metrics=['accuracy'])"
   ]
  },
  {
   "cell_type": "code",
   "execution_count": 8,
   "metadata": {},
   "outputs": [
    {
     "name": "stdout",
     "output_type": "stream",
     "text": [
      "Epoch 1/10\n",
      "450/450 [==============================] - 1s 2ms/step - loss: 1.6694 - accuracy: 0.5327 - val_loss: 1.0556 - val_accuracy: 0.7181\n",
      "Epoch 2/10\n",
      "450/450 [==============================] - 1s 2ms/step - loss: 0.9064 - accuracy: 0.7427 - val_loss: 0.8386 - val_accuracy: 0.7581\n",
      "Epoch 3/10\n",
      "450/450 [==============================] - 1s 2ms/step - loss: 0.7449 - accuracy: 0.7831 - val_loss: 0.6931 - val_accuracy: 0.7919\n",
      "Epoch 4/10\n",
      "450/450 [==============================] - 1s 1ms/step - loss: 0.6386 - accuracy: 0.8090 - val_loss: 0.6687 - val_accuracy: 0.7894\n",
      "Epoch 5/10\n",
      "450/450 [==============================] - 1s 2ms/step - loss: 0.5642 - accuracy: 0.8273 - val_loss: 0.5808 - val_accuracy: 0.8138\n",
      "Epoch 6/10\n",
      "450/450 [==============================] - 1s 2ms/step - loss: 0.5103 - accuracy: 0.8452 - val_loss: 0.5013 - val_accuracy: 0.8475\n",
      "Epoch 7/10\n",
      "450/450 [==============================] - 1s 2ms/step - loss: 0.4640 - accuracy: 0.8584 - val_loss: 0.4524 - val_accuracy: 0.8675\n",
      "Epoch 8/10\n",
      "450/450 [==============================] - 1s 1ms/step - loss: 0.4200 - accuracy: 0.8703 - val_loss: 0.4557 - val_accuracy: 0.8587\n",
      "Epoch 9/10\n",
      "450/450 [==============================] - 1s 1ms/step - loss: 0.3884 - accuracy: 0.8785 - val_loss: 0.4140 - val_accuracy: 0.8769\n",
      "Epoch 10/10\n",
      "450/450 [==============================] - 1s 2ms/step - loss: 0.3623 - accuracy: 0.8867 - val_loss: 0.4268 - val_accuracy: 0.8606\n"
     ]
    },
    {
     "data": {
      "text/plain": [
       "<keras.src.callbacks.History at 0x1d4c94c1760>"
      ]
     },
     "execution_count": 8,
     "metadata": {},
     "output_type": "execute_result"
    }
   ],
   "source": [
    "model.fit(X_train, y_train, epochs=10, batch_size=32, validation_split=0.1)"
   ]
  },
  {
   "cell_type": "code",
   "execution_count": 9,
   "metadata": {},
   "outputs": [
    {
     "name": "stdout",
     "output_type": "stream",
     "text": [
      "125/125 [==============================] - 0s 1ms/step - loss: 0.3963 - accuracy: 0.8775\n",
      "Test Accuracy: 87.75%\n"
     ]
    }
   ],
   "source": [
    "loss, accuracy = model.evaluate(X_test, y_test)\n",
    "print(f'Test Accuracy: {accuracy * 100:.2f}%')"
   ]
  },
  {
   "cell_type": "code",
   "execution_count": 10,
   "metadata": {},
   "outputs": [],
   "source": [
    "model.save('ocr_model.keras')"
   ]
  },
  {
   "cell_type": "code",
   "execution_count": 11,
   "metadata": {},
   "outputs": [],
   "source": [
    "from tensorflow.keras.models import load_model\n",
    "# Load the model\n",
    "loaded_model = load_model('ocr_model.keras')"
   ]
  },
  {
   "cell_type": "code",
   "execution_count": 12,
   "metadata": {},
   "outputs": [
    {
     "name": "stdout",
     "output_type": "stream",
     "text": [
      "1/1 [==============================] - 0s 47ms/step\n",
      "The predicted letter is: Q\n"
     ]
    }
   ],
   "source": [
    "new_data = np.array([[2, 3, 5, 4, 7, 8, 3, 4, 5, 6, 7, 8, 3, 4, 5, 6]])\n",
    "# Predict the class probabilities\n",
    "predicted_probabilities = loaded_model.predict(new_data)\n",
    "# Get the index of the class with the highest probability\n",
    "predicted_class_index = np.argmax(predicted_probabilities)\n",
    "# Convert the predicted class index back to original letter\n",
    "predicted_letter = label_encoder.inverse_transform([predicted_class_index])\n",
    "print(f\"The predicted letter is: {predicted_letter[0]}\")"
   ]
  },
  {
   "cell_type": "code",
   "execution_count": null,
   "metadata": {},
   "outputs": [],
   "source": []
  }
 ],
 "metadata": {
  "kernelspec": {
   "display_name": "Python 3 (ipykernel)",
   "language": "python",
   "name": "python3"
  },
  "language_info": {
   "codemirror_mode": {
    "name": "ipython",
    "version": 3
   },
   "file_extension": ".py",
   "mimetype": "text/x-python",
   "name": "python",
   "nbconvert_exporter": "python",
   "pygments_lexer": "ipython3",
   "version": "3.9.13"
  }
 },
 "nbformat": 4,
 "nbformat_minor": 2
}
