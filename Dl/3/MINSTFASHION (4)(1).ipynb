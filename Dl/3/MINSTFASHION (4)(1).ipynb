{
 "cells": [
  {
   "cell_type": "code",
   "execution_count": 1,
   "metadata": {},
   "outputs": [
    {
     "name": "stderr",
     "output_type": "stream",
     "text": [
      "C:\\ProgramData\\Anaconda3\\lib\\site-packages\\scipy\\__init__.py:155: UserWarning: A NumPy version >=1.18.5 and <1.25.0 is required for this version of SciPy (detected version 1.26.4\n",
      "  warnings.warn(f\"A NumPy version >={np_minversion} and <{np_maxversion}\"\n"
     ]
    }
   ],
   "source": [
    "import numpy as np\n",
    "import tensorflow as tf\n",
    "from tensorflow.keras.datasets import fashion_mnist\n",
    "from tensorflow.keras.models import Sequential\n",
    "from tensorflow.keras.layers import Conv2D, MaxPooling2D, Flatten, Dense\n",
    "from sklearn.model_selection import train_test_split"
   ]
  },
  {
   "cell_type": "code",
   "execution_count": 2,
   "metadata": {},
   "outputs": [
    {
     "name": "stdout",
     "output_type": "stream",
     "text": [
      "Downloading data from https://storage.googleapis.com/tensorflow/tf-keras-datasets/train-labels-idx1-ubyte.gz\n",
      "29515/29515 [==============================] - 0s 1us/step\n",
      "Downloading data from https://storage.googleapis.com/tensorflow/tf-keras-datasets/train-images-idx3-ubyte.gz\n",
      "26421880/26421880 [==============================] - 5s 0us/step\n",
      "Downloading data from https://storage.googleapis.com/tensorflow/tf-keras-datasets/t10k-labels-idx1-ubyte.gz\n",
      "5148/5148 [==============================] - 0s 0s/step\n",
      "Downloading data from https://storage.googleapis.com/tensorflow/tf-keras-datasets/t10k-images-idx3-ubyte.gz\n",
      "4422102/4422102 [==============================] - 1s 0us/step\n"
     ]
    }
   ],
   "source": [
    "(X_train, y_train), (X_test, y_test) = fashion_mnist.load_data()"
   ]
  },
  {
   "cell_type": "code",
   "execution_count": 3,
   "metadata": {},
   "outputs": [],
   "source": [
    "X_train = X_train.reshape(X_train.shape[0], 28, 28, 1).astype('float32') / 255.0\n",
    "X_test = X_test.reshape(X_test.shape[0], 28, 28, 1).astype('float32') / 255.0"
   ]
  },
  {
   "cell_type": "code",
   "execution_count": 4,
   "metadata": {},
   "outputs": [],
   "source": [
    "# Split the data into train and validation sets\n",
    "X_train, X_val, y_train, y_val = train_test_split(X_train, y_train, test_size=0.1, random_state=42)"
   ]
  },
  {
   "cell_type": "code",
   "execution_count": 5,
   "metadata": {},
   "outputs": [],
   "source": [
    "model = Sequential([\n",
    "Conv2D(32, (3, 3), activation='relu', input_shape=(28, 28, 1)),\n",
    "MaxPooling2D((2, 2)),\n",
    "Conv2D(64, (3, 3), activation='relu'),MaxPooling2D((2, 2)),\n",
    "Conv2D(64, (3, 3), activation='relu'),\n",
    "Flatten(),\n",
    "Dense(64, activation='relu'),\n",
    "Dense(10, activation='softmax')])"
   ]
  },
  {
   "cell_type": "code",
   "execution_count": 6,
   "metadata": {},
   "outputs": [],
   "source": [
    "# Compile the model\n",
    "model.compile(optimizer='adam', loss='sparse_categorical_crossentropy',metrics=['accuracy'])"
   ]
  },
  {
   "cell_type": "code",
   "execution_count": null,
   "metadata": {},
   "outputs": [
    {
     "name": "stdout",
     "output_type": "stream",
     "text": [
      "Epoch 1/10\n",
      "844/844 [==============================] - 19s 22ms/step - loss: 0.5586 - accuracy: 0.7971 - val_loss: 0.4154 - val_accuracy: 0.8445\n",
      "Epoch 2/10\n",
      "844/844 [==============================] - 22s 26ms/step - loss: 0.3499 - accuracy: 0.8747 - val_loss: 0.3113 - val_accuracy: 0.8865\n",
      "Epoch 3/10\n",
      "844/844 [==============================] - 21s 25ms/step - loss: 0.3031 - accuracy: 0.8900 - val_loss: 0.2894 - val_accuracy: 0.8950\n",
      "Epoch 4/10\n",
      "844/844 [==============================] - 21s 25ms/step - loss: 0.2700 - accuracy: 0.9012 - val_loss: 0.2844 - val_accuracy: 0.8970\n",
      "Epoch 5/10\n",
      "844/844 [==============================] - 22s 26ms/step - loss: 0.2444 - accuracy: 0.9105 - val_loss: 0.2750 - val_accuracy: 0.9012\n",
      "Epoch 6/10\n",
      "844/844 [==============================] - 23s 27ms/step - loss: 0.2231 - accuracy: 0.9173 - val_loss: 0.2563 - val_accuracy: 0.9053\n",
      "Epoch 7/10\n",
      "844/844 [==============================] - 23s 27ms/step - loss: 0.2083 - accuracy: 0.9233 - val_loss: 0.2493 - val_accuracy: 0.9085\n",
      "Epoch 8/10\n",
      "844/844 [==============================] - 23s 27ms/step - loss: 0.1918 - accuracy: 0.9292 - val_loss: 0.2443 - val_accuracy: 0.9115\n",
      "Epoch 9/10\n",
      "844/844 [==============================] - 23s 28ms/step - loss: 0.1772 - accuracy: 0.9351 - val_loss: 0.2725 - val_accuracy: 0.9037\n",
      "Epoch 10/10\n",
      "771/844 [==========================>...] - ETA: 1s - loss: 0.1617 - accuracy: 0.9402"
     ]
    }
   ],
   "source": [
    "# Train the model\n",
    "model.fit(X_train, y_train, epochs=10, batch_size=64, validation_data=(X_val,y_val))"
   ]
  },
  {
   "cell_type": "code",
   "execution_count": null,
   "metadata": {},
   "outputs": [],
   "source": [
    "# Evaluate the model\n",
    "loss, accuracy = model.evaluate(X_test, y_test)\n",
    "print(f'Test Accuracy: {accuracy * 100:.2f}%')"
   ]
  },
  {
   "cell_type": "code",
   "execution_count": null,
   "metadata": {},
   "outputs": [],
   "source": [
    "model.save('fashion_model.keras')"
   ]
  },
  {
   "cell_type": "code",
   "execution_count": null,
   "metadata": {},
   "outputs": [],
   "source": [
    "from tensorflow.keras.models import load_model\n",
    "loaded_model = load_model('fashion_model.keras')"
   ]
  },
  {
   "cell_type": "code",
   "execution_count": null,
   "metadata": {},
   "outputs": [],
   "source": [
    "#Make predictions on new data\n",
    "# Example input for prediction\n",
    "sample_image = X_test[0:1]\n",
    "# Predict the class probabilities\n",
    "predicted_probabilities = loaded_model.predict(sample_image)\n",
    "# Get the index of the class with the highest probability\n",
    "predicted_class_index = np.argmax(predicted_probabilities)\n",
    "# Define the fashion category labels\n",
    "fashion_labels = {\n",
    "    0: \"T-shirt/top\",\n",
    "    1: \"Trouser\",\n",
    "    2: \"Pullover\",\n",
    "    3: \"Dress\",\n",
    "    4: \"Coat\",\n",
    "    5: \"Sandal\",\n",
    "    6: \"Shirt\",\n",
    "    7: \"Sneaker\",\n",
    "    8: \"Bag\",\n",
    "    9: \"Ankle boot\"\n",
    "}\n",
    "# Convert the predicted class index to the corresponding fashion category label\n",
    "predicted_label = fashion_labels[predicted_class_index]\n",
    "print(f\"The predicted clothing category is: {predicted_label}\")"
   ]
  },
  {
   "cell_type": "code",
   "execution_count": null,
   "metadata": {},
   "outputs": [],
   "source": [
    "# Visualize the sample image\n",
    "import matplotlib.pyplot as plt\n",
    "plt.imshow(sample_image.reshape(28, 28), cmap='gray')\n",
    "plt.axis('off')\n",
    "plt.title(\"Sample Image\")\n",
    "plt.show()"
   ]
  },
  {
   "cell_type": "code",
   "execution_count": null,
   "metadata": {},
   "outputs": [],
   "source": []
  }
 ],
 "metadata": {
  "kernelspec": {
   "display_name": "Python 3 (ipykernel)",
   "language": "python",
   "name": "python3"
  },
  "language_info": {
   "codemirror_mode": {
    "name": "ipython",
    "version": 3
   },
   "file_extension": ".py",
   "mimetype": "text/x-python",
   "name": "python",
   "nbconvert_exporter": "python",
   "pygments_lexer": "ipython3",
   "version": "3.9.13"
  }
 },
 "nbformat": 4,
 "nbformat_minor": 2
}
